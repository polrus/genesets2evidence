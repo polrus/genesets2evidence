{
 "cells": [
  {
   "cell_type": "code",
   "execution_count": 28,
   "id": "52caccaa",
   "metadata": {},
   "outputs": [],
   "source": [
    "from pyspark.sql import SparkSession\n",
    "from pyspark.sql import functions as f\n",
    "from pyspark.sql.functions import col, explode, split, collect_set, concat_ws, lit, filter, when, concat_ws\n",
    "from pyspark.sql import DataFrame\n",
    "import pandas as pd"
   ]
  },
  {
   "cell_type": "code",
   "execution_count": 2,
   "id": "9af2ba19",
   "metadata": {},
   "outputs": [],
   "source": [
    "spark = SparkSession.builder.getOrCreate()"
   ]
  },
  {
   "cell_type": "code",
   "execution_count": 11,
   "id": "27052c6c",
   "metadata": {},
   "outputs": [],
   "source": [
    "assos_path = \"gs://open-targets-data-releases/25.03/output/association_by_datasource_direct/\"\n",
    "assos = spark.read.parquet(assos_path)"
   ]
  },
  {
   "cell_type": "code",
   "execution_count": 12,
   "id": "00a2b178",
   "metadata": {},
   "outputs": [
    {
     "name": "stdout",
     "output_type": "stream",
     "text": [
      "root\n",
      " |-- datatypeId: string (nullable = true)\n",
      " |-- datasourceId: string (nullable = true)\n",
      " |-- diseaseId: string (nullable = true)\n",
      " |-- targetId: string (nullable = true)\n",
      " |-- score: double (nullable = true)\n",
      " |-- evidenceCount: long (nullable = true)\n",
      "\n"
     ]
    }
   ],
   "source": [
    "assos.printSchema()"
   ]
  },
  {
   "cell_type": "code",
   "execution_count": 13,
   "id": "240558ea",
   "metadata": {},
   "outputs": [
    {
     "name": "stdout",
     "output_type": "stream",
     "text": [
      "+----------+------------+-----------+---------------+--------------------+-------------+\n",
      "|datatypeId|datasourceId|  diseaseId|       targetId|               score|evidenceCount|\n",
      "+----------+------------+-----------+---------------+--------------------+-------------+\n",
      "|literature|   europepmc|EFO_0000589|ENSG00000000938|0.012158615952232422|            1|\n",
      "|literature|   europepmc|EFO_0000589|ENSG00000000971|0.030227670214577826|            3|\n",
      "|literature|   europepmc|EFO_0000589|ENSG00000001084|0.012158615952232422|            1|\n",
      "|literature|   europepmc|EFO_0000589|ENSG00000001626|0.037553236325797865|            5|\n",
      "|literature|   europepmc|EFO_0000589|ENSG00000001630| 0.01823792392834863|            1|\n",
      "+----------+------------+-----------+---------------+--------------------+-------------+\n",
      "only showing top 5 rows\n",
      "\n"
     ]
    }
   ],
   "source": [
    "assos.show(5)"
   ]
  },
  {
   "cell_type": "code",
   "execution_count": 14,
   "id": "8a498b90",
   "metadata": {},
   "outputs": [],
   "source": [
    "reactome_ass = assos.filter(col(\"datasourceId\") == \"reactome\")"
   ]
  },
  {
   "cell_type": "code",
   "execution_count": 16,
   "id": "85720b30",
   "metadata": {},
   "outputs": [
    {
     "name": "stdout",
     "output_type": "stream",
     "text": [
      "+----------------+------------+-------------+---------------+------------------+-------------+\n",
      "|      datatypeId|datasourceId|    diseaseId|       targetId|             score|evidenceCount|\n",
      "+----------------+------------+-------------+---------------+------------------+-------------+\n",
      "|affected_pathway|    reactome|MONDO_0004992|ENSG00000005339|0.9421515329208274|           10|\n",
      "|affected_pathway|    reactome|MONDO_0004992|ENSG00000005961|0.9671529481664186|           18|\n",
      "|affected_pathway|    reactome|MONDO_0004992|ENSG00000006459|0.8897742701710087|            5|\n",
      "|affected_pathway|    reactome|MONDO_0004992|ENSG00000006530|0.8897742701710087|            5|\n",
      "|affected_pathway|    reactome|MONDO_0004992|ENSG00000010810|0.9190679877429972|            7|\n",
      "+----------------+------------+-------------+---------------+------------------+-------------+\n",
      "only showing top 5 rows\n",
      "\n"
     ]
    },
    {
     "name": "stderr",
     "output_type": "stream",
     "text": [
      "                                                                                \r"
     ]
    }
   ],
   "source": [
    "reactome_ass.show(5)"
   ]
  },
  {
   "cell_type": "code",
   "execution_count": 17,
   "id": "6b6fc3f7",
   "metadata": {},
   "outputs": [
    {
     "name": "stderr",
     "output_type": "stream",
     "text": [
      "                                                                                \r"
     ]
    },
    {
     "data": {
      "text/plain": [
       "2478"
      ]
     },
     "execution_count": 17,
     "metadata": {},
     "output_type": "execute_result"
    }
   ],
   "source": [
    "reactome_ass.count()"
   ]
  },
  {
   "cell_type": "code",
   "execution_count": 19,
   "id": "d2a126be",
   "metadata": {},
   "outputs": [],
   "source": [
    "reactome_dis = reactome_ass.select(\"diseaseId\").dropDuplicates()"
   ]
  },
  {
   "cell_type": "code",
   "execution_count": 20,
   "id": "b8cbba4c",
   "metadata": {},
   "outputs": [
    {
     "name": "stderr",
     "output_type": "stream",
     "text": [
      "[Stage 10:=================================================>        (6 + 1) / 7]\r"
     ]
    },
    {
     "name": "stdout",
     "output_type": "stream",
     "text": [
      "+-------------+\n",
      "|    diseaseId|\n",
      "+-------------+\n",
      "|MONDO_0005090|\n",
      "|MONDO_0100096|\n",
      "|MONDO_0009061|\n",
      "|MONDO_0005129|\n",
      "|  EFO_0004283|\n",
      "|MONDO_0009020|\n",
      "|  EFO_0000182|\n",
      "|  EFO_0000181|\n",
      "|MONDO_0009044|\n",
      "|MONDO_0009026|\n",
      "|  EFO_0005772|\n",
      "|MONDO_0008948|\n",
      "|MONDO_0004992|\n",
      "|  EFO_0005046|\n",
      "|MONDO_0004737|\n",
      "|  EFO_0004799|\n",
      "|MONDO_0004975|\n",
      "|  EFO_0005741|\n",
      "|  EFO_0003060|\n",
      "|  EFO_0000519|\n",
      "+-------------+\n",
      "only showing top 20 rows\n",
      "\n"
     ]
    },
    {
     "name": "stderr",
     "output_type": "stream",
     "text": [
      "                                                                                \r"
     ]
    }
   ],
   "source": [
    "reactome_dis.show()"
   ]
  },
  {
   "cell_type": "code",
   "execution_count": 21,
   "id": "e3f00707",
   "metadata": {},
   "outputs": [
    {
     "name": "stderr",
     "output_type": "stream",
     "text": [
      "[Stage 13:=================================================>        (6 + 1) / 7]\r"
     ]
    },
    {
     "data": {
      "text/plain": [
       "215"
      ]
     },
     "execution_count": 21,
     "metadata": {},
     "output_type": "execute_result"
    },
    {
     "name": "stderr",
     "output_type": "stream",
     "text": [
      "                                                                                \r"
     ]
    }
   ],
   "source": [
    "reactome_dis.count()"
   ]
  },
  {
   "cell_type": "code",
   "execution_count": 22,
   "id": "d7a635eb",
   "metadata": {},
   "outputs": [],
   "source": [
    "disease_path = \"gs://open-targets-data-releases/24.09/output/etl/parquet/diseases\"\n",
    "disease = spark.read.parquet(disease_path)"
   ]
  },
  {
   "cell_type": "code",
   "execution_count": 25,
   "id": "20c42662",
   "metadata": {},
   "outputs": [],
   "source": [
    "def join_dataframes(initial_df: DataFrame, \n",
    "                    second_df: DataFrame, \n",
    "                    initial_key_column: str, \n",
    "                    second_key_column: str,\n",
    "                    columns_to_join: list) -> DataFrame:\n",
    "    \"\"\"\n",
    "    Joins two PySpark DataFrames on specified key columns.\n",
    "\n",
    "    Args:\n",
    "    initial_df (DataFrame): The initial PySpark DataFrame.\n",
    "    second_df (DataFrame): The second PySpark DataFrame to join with.\n",
    "    initial_key_column (str): The key column name in the initial DataFrame.\n",
    "    second_key_column (str): The key column name in the second DataFrame.\n",
    "    columns_to_join (list): List of column names from the second DataFrame to include in the join.\n",
    "\n",
    "    Returns:\n",
    "    DataFrame: The resulting DataFrame after the join.\n",
    "    \"\"\"\n",
    "\n",
    "    # Selecting specified columns from the second DataFrame, including its key column\n",
    "    second_df_selected = second_df.select([second_key_column] + columns_to_join)\n",
    "\n",
    "    second_columns_to_join_with_alias = [\"b.\" + col for col in columns_to_join]\n",
    "\n",
    "    return initial_df.alias(\"a\")\\\n",
    "        .join(second_df_selected.alias(\"b\"), \n",
    "            on = initial_df[initial_key_column] == second_df_selected[second_key_column], \n",
    "            how='left')\\\n",
    "        .select(\"a.*\", *second_columns_to_join_with_alias)\\\n",
    "        .persist()"
   ]
  },
  {
   "cell_type": "code",
   "execution_count": 26,
   "id": "9db8637c",
   "metadata": {},
   "outputs": [
    {
     "name": "stderr",
     "output_type": "stream",
     "text": [
      "25/06/11 14:33:50 WARN CacheManager: Asked to cache already cached data.\n"
     ]
    }
   ],
   "source": [
    "disease_list = [\"name\", \"therapeuticAreas\"]\n",
    "\n",
    "reactome_dis_names = join_dataframes(reactome_dis, disease, \"diseaseId\", \"id\", disease_list).persist()"
   ]
  },
  {
   "cell_type": "code",
   "execution_count": 27,
   "id": "022b709a",
   "metadata": {},
   "outputs": [
    {
     "name": "stderr",
     "output_type": "stream",
     "text": [
      "                                                                                \r"
     ]
    },
    {
     "name": "stdout",
     "output_type": "stream",
     "text": [
      "+-------------+--------------------+--------------------+\n",
      "|    diseaseId|                name|    therapeuticAreas|\n",
      "+-------------+--------------------+--------------------+\n",
      "|MONDO_0009979|reticular dystrop...|[MONDO_0002025, O...|\n",
      "|MONDO_0018998|Leber congenital ...|[MONDO_0002025, O...|\n",
      "|MONDO_0005090|       schizophrenia|[MONDO_0002025, E...|\n",
      "|  EFO_1000017|autosomal recessi...|      [OTAR_0000018]|\n",
      "|   HP_0012115|           Hepatitis|       [EFO_0000651]|\n",
      "+-------------+--------------------+--------------------+\n",
      "only showing top 5 rows\n",
      "\n"
     ]
    }
   ],
   "source": [
    "reactome_dis_names.show(5)"
   ]
  },
  {
   "cell_type": "code",
   "execution_count": 29,
   "id": "1246c99f",
   "metadata": {},
   "outputs": [
    {
     "name": "stderr",
     "output_type": "stream",
     "text": [
      "                                                                                \r"
     ]
    }
   ],
   "source": [
    "reactome_dis_names.toPandas().to_csv(\"disease_list/reactome_dis_names.csv\", index=False)"
   ]
  },
  {
   "cell_type": "code",
   "execution_count": null,
   "id": "89596477",
   "metadata": {},
   "outputs": [],
   "source": []
  }
 ],
 "metadata": {
  "kernelspec": {
   "display_name": "PySpark",
   "language": "python",
   "name": "pyspark"
  },
  "language_info": {
   "codemirror_mode": {
    "name": "ipython",
    "version": 3
   },
   "file_extension": ".py",
   "mimetype": "text/x-python",
   "name": "python",
   "nbconvert_exporter": "python",
   "pygments_lexer": "ipython3",
   "version": "3.11.8"
  }
 },
 "nbformat": 4,
 "nbformat_minor": 5
}
