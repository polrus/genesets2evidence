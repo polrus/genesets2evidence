{
 "cells": [
  {
   "cell_type": "code",
   "execution_count": 1,
   "id": "078e378f",
   "metadata": {},
   "outputs": [],
   "source": [
    "import os\n",
    "import glob\n",
    "import pandas as pd"
   ]
  },
  {
   "cell_type": "code",
   "execution_count": 15,
   "id": "6d719798",
   "metadata": {},
   "outputs": [],
   "source": [
    "def find_pathways(input_folder, search_df):\n",
    "    # Load search terms and associated metadata\n",
    "    records = []\n",
    "\n",
    "    # Go through each .txt file with gene sets\n",
    "    for file_path in glob.glob(os.path.join(input_folder, '*.txt')):\n",
    "        file_name = os.path.splitext(os.path.basename(file_path))[0]\n",
    "        \n",
    "        with open(file_path, 'r', encoding='utf-8') as f:\n",
    "            for line in f:\n",
    "                if not line.strip():\n",
    "                    continue\n",
    "\n",
    "                parts = line.strip().split('\\t')\n",
    "                if len(parts) < 3:\n",
    "                    continue  # malformed line\n",
    "                \n",
    "                pathway = parts[0]\n",
    "                genes = parts[2:]\n",
    "                genes_str = ', '.join([g for g in genes if g.strip()])\n",
    "\n",
    "                # Match each search term with the pathway name\n",
    "                for _, row in search_df.iterrows():\n",
    "                    term = str(row['searchTerms'])\n",
    "                    if term.lower() in pathway.lower():\n",
    "                        records.append({\n",
    "                            'pathwayName': pathway,\n",
    "                            'searchTerms': term,\n",
    "                            'genes': genes_str,\n",
    "                            'library': file_name,\n",
    "                            'diseaseId': row.get('diseaseId'),\n",
    "                            'name': row.get('name'),\n",
    "                            'therapeuticAreas': row.get('therapeuticAreas')\n",
    "                        })\n",
    "\n",
    "    return pd.DataFrame(records, columns=[\n",
    "        'pathwayName', 'searchTerms', 'genes', 'library',\n",
    "        'diseaseId', 'name', 'therapeuticAreas'\n",
    "    ])"
   ]
  },
  {
   "cell_type": "code",
   "execution_count": 16,
   "id": "771d9b77",
   "metadata": {},
   "outputs": [],
   "source": [
    "reactome_diseases = pd.read_csv('/home/polina/genesets2evidence/disease_list/reactome_dis_terms_curated.csv')"
   ]
  },
  {
   "cell_type": "code",
   "execution_count": 17,
   "id": "eb04b1f0",
   "metadata": {},
   "outputs": [],
   "source": [
    "gene_sets = '/home/polina/genesets2evidence/gene_sets'"
   ]
  },
  {
   "cell_type": "code",
   "execution_count": null,
   "id": "5a9b0e95",
   "metadata": {},
   "outputs": [],
   "source": [
    "disease_pathways = find_pathways(gene_sets, reactome_diseases)"
   ]
  },
  {
   "cell_type": "code",
   "execution_count": 8,
   "id": "66d220aa",
   "metadata": {},
   "outputs": [],
   "source": [
    "disease_pathways_grouped = disease_pathways.groupby('pathwayName').agg(lambda x: ','.join(sorted(set(x)))).reset_index()"
   ]
  },
  {
   "cell_type": "code",
   "execution_count": 9,
   "id": "e82ebb95",
   "metadata": {},
   "outputs": [],
   "source": [
    "# disease_pathways_grouped.to_csv('disease_pathways_v1.csv', index=False, sep='\\t')"
   ]
  },
  {
   "cell_type": "code",
   "execution_count": 10,
   "id": "5cab381a",
   "metadata": {},
   "outputs": [],
   "source": [
    "disease_pathways_grouped['genes'] = disease_pathways_grouped['genes'].str.split(', ')\n",
    "disease_pathways_exploded = disease_pathways_grouped.explode('genes', ignore_index=True)"
   ]
  },
  {
   "cell_type": "code",
   "execution_count": 11,
   "id": "85f4ef6b",
   "metadata": {},
   "outputs": [],
   "source": [
    "disease_pathways_exploded.to_csv('AD_counts_vs_OT/AD_v1.txt', index=False, sep='\\t')"
   ]
  },
  {
   "cell_type": "code",
   "execution_count": null,
   "id": "7466a30c",
   "metadata": {},
   "outputs": [],
   "source": []
  },
  {
   "cell_type": "code",
   "execution_count": null,
   "id": "68499ae1",
   "metadata": {},
   "outputs": [],
   "source": []
  },
  {
   "cell_type": "code",
   "execution_count": null,
   "id": "1d23da3a",
   "metadata": {},
   "outputs": [],
   "source": []
  }
 ],
 "metadata": {
  "kernelspec": {
   "display_name": "PySpark",
   "language": "python",
   "name": "pyspark"
  },
  "language_info": {
   "codemirror_mode": {
    "name": "ipython",
    "version": 3
   },
   "file_extension": ".py",
   "mimetype": "text/x-python",
   "name": "python",
   "nbconvert_exporter": "python",
   "pygments_lexer": "ipython3",
   "version": "3.11.8"
  }
 },
 "nbformat": 4,
 "nbformat_minor": 5
}
