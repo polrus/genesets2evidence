{
 "cells": [
  {
   "cell_type": "code",
   "execution_count": 2,
   "id": "4306fe86",
   "metadata": {},
   "outputs": [],
   "source": [
    "import pandas as pd"
   ]
  },
  {
   "cell_type": "markdown",
   "id": "31419581",
   "metadata": {},
   "source": [
    "# Merge reactome evidence and geneset targets"
   ]
  },
  {
   "cell_type": "code",
   "execution_count": 6,
   "id": "aeb2eb2c",
   "metadata": {},
   "outputs": [],
   "source": [
    "reactome_evidence = pd.read_csv(\"target_lists/reactome_evidence.csv\", index_col=0)\n",
    "reactome_evidence_select = reactome_evidence[[\"datasourceId\", \"approvedSymbol\", \"targetId\", \"diseaseId\"]]"
   ]
  },
  {
   "cell_type": "code",
   "execution_count": 9,
   "id": "d5f8ea2c",
   "metadata": {},
   "outputs": [],
   "source": [
    "geneset_evidence = pd.read_csv(\"target_lists/from_reactome_dis_v2_pathways_only.csv\", index_col=0)\n",
    "geneset_evidence.rename(columns={\"genes\": \"approvedSymbol\"}, inplace=True)"
   ]
  },
  {
   "cell_type": "code",
   "execution_count": 10,
   "id": "5e8f80f8",
   "metadata": {},
   "outputs": [],
   "source": [
    "geneset_evidence_reactome = pd.merge(geneset_evidence, reactome_evidence_select, on=['approvedSymbol', 'diseaseId'], how='outer')"
   ]
  },
  {
   "cell_type": "code",
   "execution_count": 13,
   "id": "cf488bda",
   "metadata": {},
   "outputs": [
    {
     "data": {
      "text/html": [
       "<div>\n",
       "<style scoped>\n",
       "    .dataframe tbody tr th:only-of-type {\n",
       "        vertical-align: middle;\n",
       "    }\n",
       "\n",
       "    .dataframe tbody tr th {\n",
       "        vertical-align: top;\n",
       "    }\n",
       "\n",
       "    .dataframe thead th {\n",
       "        text-align: right;\n",
       "    }\n",
       "</style>\n",
       "<table border=\"1\" class=\"dataframe\">\n",
       "  <thead>\n",
       "    <tr style=\"text-align: right;\">\n",
       "      <th></th>\n",
       "      <th>searchTerms</th>\n",
       "      <th>approvedSymbol</th>\n",
       "      <th>library</th>\n",
       "      <th>diseaseId</th>\n",
       "      <th>name</th>\n",
       "      <th>therapeuticAreas</th>\n",
       "      <th>datasourceId</th>\n",
       "      <th>targetId</th>\n",
       "    </tr>\n",
       "  </thead>\n",
       "  <tbody>\n",
       "    <tr>\n",
       "      <th>9259</th>\n",
       "      <td>viral</td>\n",
       "      <td>NaN</td>\n",
       "      <td>Reactome_Pathways_2024</td>\n",
       "      <td>EFO_0000763</td>\n",
       "      <td>viral disease</td>\n",
       "      <td>['EFO_0005741']</td>\n",
       "      <td>NaN</td>\n",
       "      <td>NaN</td>\n",
       "    </tr>\n",
       "    <tr>\n",
       "      <th>9260</th>\n",
       "      <td>viral</td>\n",
       "      <td>NaN</td>\n",
       "      <td>Reactome_Pathways_2024</td>\n",
       "      <td>EFO_0000763</td>\n",
       "      <td>viral disease</td>\n",
       "      <td>['EFO_0005741']</td>\n",
       "      <td>NaN</td>\n",
       "      <td>NaN</td>\n",
       "    </tr>\n",
       "    <tr>\n",
       "      <th>9261</th>\n",
       "      <td>viral</td>\n",
       "      <td>NaN</td>\n",
       "      <td>Reactome_Pathways_2024</td>\n",
       "      <td>EFO_0000763</td>\n",
       "      <td>viral disease</td>\n",
       "      <td>['EFO_0005741']</td>\n",
       "      <td>NaN</td>\n",
       "      <td>NaN</td>\n",
       "    </tr>\n",
       "    <tr>\n",
       "      <th>9262</th>\n",
       "      <td>viral</td>\n",
       "      <td>NaN</td>\n",
       "      <td>Reactome_Pathways_2024</td>\n",
       "      <td>EFO_0000763</td>\n",
       "      <td>viral disease</td>\n",
       "      <td>['EFO_0005741']</td>\n",
       "      <td>NaN</td>\n",
       "      <td>NaN</td>\n",
       "    </tr>\n",
       "  </tbody>\n",
       "</table>\n",
       "</div>"
      ],
      "text/plain": [
       "     searchTerms approvedSymbol                 library    diseaseId  \\\n",
       "9259       viral            NaN  Reactome_Pathways_2024  EFO_0000763   \n",
       "9260       viral            NaN  Reactome_Pathways_2024  EFO_0000763   \n",
       "9261       viral            NaN  Reactome_Pathways_2024  EFO_0000763   \n",
       "9262       viral            NaN  Reactome_Pathways_2024  EFO_0000763   \n",
       "\n",
       "               name therapeuticAreas datasourceId targetId  \n",
       "9259  viral disease  ['EFO_0005741']          NaN      NaN  \n",
       "9260  viral disease  ['EFO_0005741']          NaN      NaN  \n",
       "9261  viral disease  ['EFO_0005741']          NaN      NaN  \n",
       "9262  viral disease  ['EFO_0005741']          NaN      NaN  "
      ]
     },
     "execution_count": 13,
     "metadata": {},
     "output_type": "execute_result"
    }
   ],
   "source": [
    "df_to_display = geneset_evidence_reactome[geneset_evidence_reactome[\"approvedSymbol\"].isnull()]\n",
    "df_to_display"
   ]
  },
  {
   "cell_type": "code",
   "execution_count": null,
   "id": "f7d729bf",
   "metadata": {},
   "outputs": [],
   "source": []
  },
  {
   "cell_type": "code",
   "execution_count": null,
   "id": "50902574",
   "metadata": {},
   "outputs": [],
   "source": []
  }
 ],
 "metadata": {
  "kernelspec": {
   "display_name": "Python 3",
   "language": "python",
   "name": "python3"
  },
  "language_info": {
   "codemirror_mode": {
    "name": "ipython",
    "version": 3
   },
   "file_extension": ".py",
   "mimetype": "text/x-python",
   "name": "python",
   "nbconvert_exporter": "python",
   "pygments_lexer": "ipython3",
   "version": "3.11.6"
  }
 },
 "nbformat": 4,
 "nbformat_minor": 5
}
